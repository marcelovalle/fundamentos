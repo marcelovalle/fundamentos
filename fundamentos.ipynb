{
  "nbformat": 4,
  "nbformat_minor": 0,
  "metadata": {
    "colab": {
      "provenance": [],
      "toc_visible": true,
      "include_colab_link": true
    },
    "kernelspec": {
      "name": "python3",
      "display_name": "Python 3"
    },
    "language_info": {
      "name": "python"
    }
  },
  "cells": [
    {
      "cell_type": "markdown",
      "metadata": {
        "id": "view-in-github",
        "colab_type": "text"
      },
      "source": [
        "<a href=\"https://colab.research.google.com/github/marcelovalle/fundamentos/blob/main/fundamentos_an%C3%A1lise_de_dados_marcelo.ipynb\" target=\"_parent\"><img src=\"https://colab.research.google.com/assets/colab-badge.svg\" alt=\"Open In Colab\"/></a>"
      ]
    },
    {
      "cell_type": "markdown",
      "source": [
        "#MINI CURSO DE FUNDAMENTOS DE DADOS\n"
      ],
      "metadata": {
        "id": "QHMd4AxhPemh"
      }
    },
    {
      "cell_type": "markdown",
      "source": [
        "## Aula 02"
      ],
      "metadata": {
        "id": "CshiO_m3gyhu"
      }
    },
    {
      "cell_type": "code",
      "source": [
        "print(\"Olá Mundo!\")\n",
        "\n",
        "##Funções Built-in\n",
        "##linhas de códigos fornecidos pelo python: print(), len(), input(),dir(), type(), int() etc.\n",
        "## Colchete[] indica lista, Chaves {} indica dicionário\n",
        "### Temos vários tipos de dados: string, número inteiro, plot etc.\n",
        "\n",
        "palavra= \"segunda aula do mini-curso\"\n",
        "print (palavra)\n",
        "print(\"A quantidade de caracteres na frase acima é:\", (len(palavra)))"
      ],
      "metadata": {
        "id": "_5kqHn2AJXl5",
        "outputId": "71ac92a2-f9cc-45a2-a4ae-c232a86fb03a",
        "colab": {
          "base_uri": "https://localhost:8080/"
        }
      },
      "execution_count": null,
      "outputs": [
        {
          "output_type": "stream",
          "name": "stdout",
          "text": [
            "Olá Mundo!\n",
            "segunda aula do mini-curso\n",
            "A quantidade de caracteres na frase acima é: 26\n"
          ]
        }
      ]
    },
    {
      "cell_type": "code",
      "source": [
        "nome= input(\"Por favor, digite seu nome: \")\n",
        "print(f\"Olá {nome}, como vai?\")"
      ],
      "metadata": {
        "id": "1z4cWMcuLj7m",
        "outputId": "33ce69c9-e32e-4a17-86ea-6da2dbb717ed",
        "colab": {
          "base_uri": "https://localhost:8080/"
        }
      },
      "execution_count": null,
      "outputs": [
        {
          "output_type": "stream",
          "name": "stdout",
          "text": [
            "Por favor, digite seu nome: Marcelo\n",
            "Olá Marcelo, como vai?\n"
          ]
        }
      ]
    },
    {
      "cell_type": "code",
      "source": [
        "### Zen do python\n",
        "import this\n"
      ],
      "metadata": {
        "id": "QdvHNgsQPCha"
      },
      "execution_count": null,
      "outputs": []
    },
    {
      "cell_type": "markdown",
      "source": [
        "## Criando suas próprias funções"
      ],
      "metadata": {
        "id": "htG38kb7RECz"
      }
    },
    {
      "cell_type": "code",
      "source": [
        "def soma_dois_numeros():\n",
        "  # Pede ao usuário para inserir dois números separados por vírgula e retorna a soma deles.\n",
        "  numeros_str = input(\"Insira dois números separados por vírgula: \")\n",
        "\n",
        "  # Divide a string em dois números\n",
        "  numeros = numeros_str.split(\",\")\n",
        "\n",
        "  # Converte os números para inteiros\n",
        "  num1 = int(numeros[0])\n",
        "  num2 = int(numeros[1])\n",
        "\n",
        "  # Soma os números e retorna o resultado\n",
        "  return num1 + num2\n",
        "\n",
        "# Exemplo de uso\n",
        "resultado = soma_dois_numeros()\n",
        "print(f\"A soma dos números é: {resultado}\")"
      ],
      "metadata": {
        "id": "rpFDSrWwRHq7",
        "outputId": "561efa81-8249-4a66-8b87-c57594527fb8",
        "colab": {
          "base_uri": "https://localhost:8080/"
        }
      },
      "execution_count": null,
      "outputs": [
        {
          "output_type": "stream",
          "name": "stdout",
          "text": [
            "Insira dois números separados por vírgula: 3,40\n",
            "A soma dos números é: 43\n"
          ]
        }
      ]
    },
    {
      "cell_type": "code",
      "source": [],
      "metadata": {
        "id": "0WE7r_YAUzUb"
      },
      "execution_count": null,
      "outputs": []
    }
  ]
}